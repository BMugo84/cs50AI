{
  "nbformat": 4,
  "nbformat_minor": 0,
  "metadata": {
    "colab": {
      "provenance": [],
      "gpuType": "T4",
      "authorship_tag": "ABX9TyOSVhM14EGGbSsgN623lI46",
      "include_colab_link": true
    },
    "kernelspec": {
      "name": "python3",
      "display_name": "Python 3"
    },
    "language_info": {
      "name": "python"
    },
    "accelerator": "GPU"
  },
  "cells": [
    {
      "cell_type": "markdown",
      "metadata": {
        "id": "view-in-github",
        "colab_type": "text"
      },
      "source": [
        "<a href=\"https://colab.research.google.com/github/BMugo84/cs50AI/blob/main/TRAFFIC.ipynb\" target=\"_parent\"><img src=\"https://colab.research.google.com/assets/colab-badge.svg\" alt=\"Open In Colab\"/></a>"
      ]
    },
    {
      "cell_type": "code",
      "execution_count": null,
      "metadata": {
        "id": "OyPI2nGxcYsK"
      },
      "outputs": [],
      "source": [
        "import cv2\n",
        "import numpy as np\n",
        "import os\n",
        "import sys\n",
        "import tensorflow as tf\n",
        "\n",
        "from sklearn.model_selection import train_test_split"
      ]
    },
    {
      "cell_type": "code",
      "source": [
        "EPOCHS = 10\n",
        "IMG_WIDTH = 30\n",
        "IMG_HEIGHT = 30\n",
        "NUM_CATEGORIES = 43\n",
        "TEST_SIZE = 0.4"
      ],
      "metadata": {
        "id": "Q6m9VMmnoZNv"
      },
      "execution_count": null,
      "outputs": []
    },
    {
      "cell_type": "code",
      "source": [],
      "metadata": {
        "colab": {
          "base_uri": "https://localhost:8080/"
        },
        "id": "tX8TupLsXpar",
        "outputId": "6c83b275-f05e-435f-c97d-c70ff7b3545f"
      },
      "execution_count": null,
      "outputs": [
        {
          "output_type": "stream",
          "name": "stdout",
          "text": [
            "Mounted at /content/drive\n"
          ]
        }
      ]
    },
    {
      "cell_type": "code",
      "source": [
        "# fetch dataset from drive\n",
        "from google.colab import drive\n",
        "\n",
        "drive.mount('/content/drive')\n",
        "\n",
        "import zipfile\n",
        "\n",
        "# specify the path to the zip\n",
        "zip_file_path = \"/content/drive/MyDrive/week_5/gtsrb.zip\"\n",
        "\n",
        "# specify target directory ie where the file will be unzipped to\n",
        "target_dir = \"/content\"\n",
        "\n",
        "# unzip the file\n",
        "with zipfile.ZipFile(zip_file_path, 'r') as zip_ref:\n",
        "  zip_ref.extractall(target_dir)\n",
        "\n",
        "# store the extracted dir path in the data_dir variable\n",
        "data_dir = target_dir + \"/extracted_folder\"\n",
        "\n",
        "# Print the data_dir variable\n",
        "print(f\"Data directory: {data_dir}\")"
      ],
      "metadata": {
        "colab": {
          "base_uri": "https://localhost:8080/"
        },
        "id": "VY71bPXBZB_Q",
        "outputId": "878a7ed0-dfb5-4b8d-d1b2-e6d6d27716e8"
      },
      "execution_count": null,
      "outputs": [
        {
          "output_type": "stream",
          "name": "stdout",
          "text": [
            "Mounted at /content/drive\n",
            "Data directory: /content/extracted_folder\n"
          ]
        }
      ]
    },
    {
      "cell_type": "code",
      "source": [
        "!ls \"/content\""
      ],
      "metadata": {
        "colab": {
          "base_uri": "https://localhost:8080/"
        },
        "id": "gt-3Ghrlcntg",
        "outputId": "004652e8-04cd-433c-b611-2183d2788ac9"
      },
      "execution_count": null,
      "outputs": [
        {
          "output_type": "stream",
          "name": "stdout",
          "text": [
            "drive  gtsrb  sample_data\n"
          ]
        }
      ]
    },
    {
      "cell_type": "code",
      "source": [
        "def main():\n",
        "\n",
        "    # Check command-line arguments\n",
        "    if len(sys.argv) not in [2, 3]:\n",
        "        sys.exit(\"Usage: python traffic.py data_directory [model.h5]\")\n",
        "\n",
        "    # Get image arrays and labels for all image files\n",
        "    images, labels = load_data(sys.argv[1])\n",
        "\n",
        "    # Split data into training and testing sets\n",
        "    labels = tf.keras.utils.to_categorical(labels)\n",
        "    x_train, x_test, y_train, y_test = train_test_split(\n",
        "        np.array(images), np.array(labels), test_size=TEST_SIZE\n",
        "    )\n",
        "\n",
        "    # Get a compiled neural network\n",
        "    model = get_model()\n",
        "\n",
        "    # Fit model on training data\n",
        "    model.fit(x_train, y_train, epochs=EPOCHS)\n",
        "\n",
        "    # Evaluate neural network performance\n",
        "    model.evaluate(x_test,  y_test, verbose=2)\n",
        "\n",
        "    # Save model to file\n",
        "    if len(sys.argv) == 3:\n",
        "        filename = sys.argv[2]\n",
        "        model.save(filename)\n",
        "        print(f\"Model saved to {filename}.\")"
      ],
      "metadata": {
        "id": "qomt2SnlobQG"
      },
      "execution_count": null,
      "outputs": []
    },
    {
      "cell_type": "code",
      "source": [
        "data_dir = os.path.join('/content','gtsrb')\n",
        "os.listdir(data_dir)\n",
        "\n",
        "traffic_dirs = os.listdir(data_dir)\n",
        "for dir in traffic_dirs:\n",
        "  images_path = os.path.join(data_dir, dir)\n",
        "  image_files = os.listdir(images_path)\n",
        "  for img in image_files:\n",
        "    print(img)"
      ],
      "metadata": {
        "id": "x_9VHgI0fHS5"
      },
      "execution_count": null,
      "outputs": []
    },
    {
      "cell_type": "markdown",
      "source": [
        "Sure, here's a breakdown of how you can implement the `load_data` function:\n",
        "\n",
        "1. **Iterate Through Categories:**\n",
        "   - Use functions like `os.listdir` to get a list of directories within the `data_dir`.\n",
        "   - Iterate through each directory, which represents a category (0 through `NUM_CATEGORIES - 1`).\n",
        "\n",
        "2. **Read Images:**\n",
        "   - Within each category directory, use functions like `os.listdir` again to get a list of image files.\n",
        "   - Iterate through each image file and read it using OpenCV-Python (`cv2.imread`). This will give you a NumPy array representing the image.\n",
        "\n",
        "3. **Resize Images:**\n",
        "   - Resize each image to a fixed size using OpenCV-Python's `cv2.resize` function. You'll need to specify the width (`IMG_WIDTH`) and height (`IMG_HEIGHT`) to resize the images to.\n",
        "\n",
        "4. **Append to Lists:**\n",
        "   - As you read and resize each image, append it to a list (e.g., `images`) and append the corresponding category number to another list (e.g., `labels`). The category number can be derived from the directory name.\n",
        "\n",
        "5. **Return Data:**\n",
        "   - Once you've processed all images in all categories, return a tuple `(images, labels)` where `images` is the list of resized image arrays and `labels` is the list of corresponding category numbers.\n",
        "\n",
        "6. **Platform Independence:**\n",
        "   - To ensure platform independence, use `os.path.join` to construct file paths instead of hardcoding path separators. This ensures your code works across different operating systems without modification.\n",
        "\n",
        "By following these steps, you should be able to implement the `load_data` function that reads images from a directory, resizes them, and returns the image arrays along with their corresponding labels. Let me know if you need further clarification on any of these steps!"
      ],
      "metadata": {
        "id": "8px5nGcfjpha"
      }
    },
    {
      "cell_type": "code",
      "source": [
        "def load_data(data_dir):\n",
        "    \"\"\"\n",
        "    Load image data from directory `data_dir`.\n",
        "\n",
        "    Assume `data_dir` has one directory named after each category, numbered\n",
        "    0 through NUM_CATEGORIES - 1. Inside each category directory will be some\n",
        "    number of image files.\n",
        "\n",
        "    Return tuple `(images, labels)`. `images` should be a list of all\n",
        "    of the images in the data directory, where each image is formatted as a\n",
        "    numpy ndarray with dimensions IMG_WIDTH x IMG_HEIGHT x 3. `labels` should\n",
        "    be a list of integer labels, representing the categories for each of the\n",
        "    corresponding `images`.\n",
        "    \"\"\"\n",
        "    # init a list to store numpy arrays and a list to store categories\n",
        "    images = []\n",
        "    labels = []\n",
        "    # iterate though each directory to find the image path\n",
        "    for dir in range(NUM_CATEGORIES):\n",
        "      images_path = os.path.join(data_dir, str(dir))\n",
        "      image_files = os.listdir(images_path)\n",
        "      for img in image_files:\n",
        "        img_path = os.path.join(images_path, img)\n",
        "\n",
        "        # read the image using cv2.imread and the image path\n",
        "\n",
        "        img_read = cv2.imread(img_path)\n",
        "\n",
        "        # resize image using cv2.resize\n",
        "        resized_img = cv2.resize(img_read, (IMG_WIDTH, IMG_HEIGHT))\n",
        "\n",
        "        # append to a list\n",
        "        images.append(resized_img)\n",
        "        labels.append(dir)\n",
        "\n",
        "    return images, labels\n",
        "\n",
        "\n"
      ],
      "metadata": {
        "id": "fFWX30i8ofS_"
      },
      "execution_count": null,
      "outputs": []
    },
    {
      "cell_type": "code",
      "source": [
        "def get_model():\n",
        "    \"\"\"\n",
        "    Returns a compiled convolutional neural network model. Assume that the\n",
        "    `input_shape` of the first layer is `(IMG_WIDTH, IMG_HEIGHT, 3)`.\n",
        "    The output layer should have `NUM_CATEGORIES` units, one for each category.\n",
        "    \"\"\"\n",
        "    # create a convolution neural network\n",
        "    model = tf.keras.models.Sequential([\n",
        "\n",
        "        # convolutional layer. learn 32 filters using a 3x3 kernel\n",
        "        tf.keras.layers.Conv2D(\n",
        "            filters=32, kernel_size=(3,3), activation='relu', input_shape=(IMG_WIDTH, IMG_HEIGHT, 3)\n",
        "        ),\n",
        "\n",
        "        # max-pooling layer, using 2x2 pool size\n",
        "        tf.keras.layers.MaxPooling2D(pool_size=(2, 2)),\n",
        "\n",
        "        # Flatten units\n",
        "        tf.keras.layers.Flatten(),\n",
        "\n",
        "        # add a hiden layer with dropout\n",
        "        tf.keras.layers.Dense(128, activation='relu'),\n",
        "        tf.keras.layers.Dropout(0.5),\n",
        "\n",
        "        # add an output layer with output units of all 42 categories\n",
        "        tf.keras.layers.Dense(NUM_CATEGORIES, activation='softmax')\n",
        "\n",
        "\n",
        "    ])\n",
        "    model.compile(optimizer='adam', loss='categorical_crossentropy', metrics=['accuracy'])\n",
        "\n",
        "    return model\n",
        "\n",
        "\n",
        "# Get image arrays and labels for all image files\n",
        "images, labels = load_data(data_dir)\n",
        "\n",
        "# Split data into training and testing sets\n",
        "labels = tf.keras.utils.to_categorical(labels)\n",
        "x_train, x_test, y_train, y_test = train_test_split(\n",
        "    np.array(images), np.array(labels), test_size=TEST_SIZE\n",
        ")\n",
        "\n",
        "# Get a compiled neural network\n",
        "model = get_model()\n",
        "\n",
        "# Fit model on training data\n",
        "hist_m1 = model.fit(x_train, y_train, epochs=EPOCHS)\n",
        "loss_m1 = hist_m1.history['loss']\n",
        "accuracy_m1 = hist_m1.history['accuracy']\n",
        "\n",
        "# Evaluate neural network performance\n",
        "model.evaluate(x_test,  y_test, verbose=2)\n",
        "\n",
        "model.summary()"
      ],
      "metadata": {
        "colab": {
          "base_uri": "https://localhost:8080/"
        },
        "id": "dXx_nslJvPYO",
        "outputId": "74fd594a-a8a1-4842-da0e-97a02af4d3c0"
      },
      "execution_count": null,
      "outputs": [
        {
          "output_type": "stream",
          "name": "stdout",
          "text": [
            "Epoch 1/10\n",
            "500/500 [==============================] - 3s 3ms/step - loss: 4.4984 - accuracy: 0.0519\n",
            "Epoch 2/10\n",
            "500/500 [==============================] - 2s 3ms/step - loss: 3.5872 - accuracy: 0.0574\n",
            "Epoch 3/10\n",
            "500/500 [==============================] - 2s 4ms/step - loss: 3.5392 - accuracy: 0.0564\n",
            "Epoch 4/10\n",
            "500/500 [==============================] - 2s 4ms/step - loss: 3.5170 - accuracy: 0.0574\n",
            "Epoch 5/10\n",
            "500/500 [==============================] - 2s 3ms/step - loss: 3.5070 - accuracy: 0.0574\n",
            "Epoch 6/10\n",
            "500/500 [==============================] - 2s 3ms/step - loss: 3.5024 - accuracy: 0.0574\n",
            "Epoch 7/10\n",
            "500/500 [==============================] - 2s 3ms/step - loss: 3.5001 - accuracy: 0.0574\n",
            "Epoch 8/10\n",
            "500/500 [==============================] - 2s 3ms/step - loss: 3.4989 - accuracy: 0.0574\n",
            "Epoch 9/10\n",
            "500/500 [==============================] - 2s 3ms/step - loss: 3.4984 - accuracy: 0.0574\n",
            "Epoch 10/10\n",
            "500/500 [==============================] - 2s 4ms/step - loss: 3.4981 - accuracy: 0.0574\n",
            "333/333 - 1s - loss: 3.4984 - accuracy: 0.0547 - 691ms/epoch - 2ms/step\n",
            "Model: \"sequential_9\"\n",
            "_________________________________________________________________\n",
            " Layer (type)                Output Shape              Param #   \n",
            "=================================================================\n",
            " conv2d_17 (Conv2D)          (None, 28, 28, 32)        896       \n",
            "                                                                 \n",
            " max_pooling2d_17 (MaxPooli  (None, 14, 14, 32)        0         \n",
            " ng2D)                                                           \n",
            "                                                                 \n",
            " flatten_11 (Flatten)        (None, 6272)              0         \n",
            "                                                                 \n",
            " dense_20 (Dense)            (None, 128)               802944    \n",
            "                                                                 \n",
            " dropout_9 (Dropout)         (None, 128)               0         \n",
            "                                                                 \n",
            " dense_21 (Dense)            (None, 43)                5547      \n",
            "                                                                 \n",
            "=================================================================\n",
            "Total params: 809387 (3.09 MB)\n",
            "Trainable params: 809387 (3.09 MB)\n",
            "Non-trainable params: 0 (0.00 Byte)\n",
            "_________________________________________________________________\n"
          ]
        }
      ]
    },
    {
      "cell_type": "code",
      "source": [
        "\n",
        "hist_m1 = model.fit(x_train, y_train, epochs=EPOCHS)\n",
        "loss_m1 = hist_m1.history['loss']\n",
        "accuracy_m1 = hist_m1.history['accuracy']\n",
        "print(loss_m1)"
      ],
      "metadata": {
        "colab": {
          "base_uri": "https://localhost:8080/"
        },
        "id": "OsfXyIV7xHaf",
        "outputId": "cecc556a-5428-4012-e0d8-3906b20218e9"
      },
      "execution_count": null,
      "outputs": [
        {
          "output_type": "stream",
          "name": "stdout",
          "text": [
            "Epoch 1/10\n",
            "500/500 [==============================] - 2s 4ms/step - loss: 3.4939 - accuracy: 0.0565\n",
            "Epoch 2/10\n",
            "500/500 [==============================] - 2s 5ms/step - loss: 3.4938 - accuracy: 0.0576\n",
            "Epoch 3/10\n",
            "500/500 [==============================] - 2s 3ms/step - loss: 3.4938 - accuracy: 0.0575\n",
            "Epoch 4/10\n",
            "500/500 [==============================] - 2s 3ms/step - loss: 3.4938 - accuracy: 0.0569\n",
            "Epoch 5/10\n",
            "500/500 [==============================] - 2s 3ms/step - loss: 3.4938 - accuracy: 0.0576\n",
            "Epoch 6/10\n",
            "500/500 [==============================] - 2s 3ms/step - loss: 3.4937 - accuracy: 0.0576\n",
            "Epoch 7/10\n",
            "500/500 [==============================] - 2s 3ms/step - loss: 3.4937 - accuracy: 0.0561\n",
            "Epoch 8/10\n",
            "500/500 [==============================] - 2s 3ms/step - loss: 3.4937 - accuracy: 0.0561\n",
            "Epoch 9/10\n",
            "500/500 [==============================] - 2s 4ms/step - loss: 3.4937 - accuracy: 0.0556\n",
            "Epoch 10/10\n",
            "500/500 [==============================] - 2s 4ms/step - loss: 3.4937 - accuracy: 0.0576\n",
            "[3.493943691253662, 3.4938011169433594, 3.4938013553619385, 3.493767023086548, 3.4937639236450195, 3.493741035461426, 3.493717908859253, 3.4937357902526855, 3.493738889694214, 3.493734121322632]\n"
          ]
        }
      ]
    },
    {
      "cell_type": "code",
      "source": [
        "def get_model():\n",
        "    \"\"\"\n",
        "    Returns a compiled convolutional neural network model. Assume that the\n",
        "    `input_shape` of the first layer is `(IMG_WIDTH, IMG_HEIGHT, 3)`.\n",
        "    The output layer should have `NUM_CATEGORIES` units, one for each category.\n",
        "    \"\"\"\n",
        "    # create a convolution neural network\n",
        "    model = tf.keras.models.Sequential([\n",
        "\n",
        "        # convolutional layer. learn 32 filters using a 3x3 kernel\n",
        "        tf.keras.layers.Conv2D(\n",
        "            filters=16, kernel_size=(3,3), activation='relu', input_shape=(IMG_WIDTH, IMG_HEIGHT, 3)\n",
        "        ),\n",
        "\n",
        "        # max-pooling layer, using 2x2 pool size\n",
        "        tf.keras.layers.MaxPooling2D(pool_size=(2, 2)),\n",
        "\n",
        "        # convolutional layer. learn 32 filters using a 3x3 kernel\n",
        "        tf.keras.layers.Conv2D(\n",
        "            filters=32, kernel_size=(3,3), activation='relu'\n",
        "        ),\n",
        "\n",
        "        # max-pooling layer, using 2x2 pool size\n",
        "        tf.keras.layers.MaxPooling2D(pool_size=(2, 2)),\n",
        "\n",
        "        # # convolutional layer. learn 32 filters using a 3x3 kernel\n",
        "        # tf.keras.layers.Conv2D(\n",
        "        #     filters=32, kernel_size=(3,3), activation='relu'\n",
        "        # ),\n",
        "\n",
        "        # # max-pooling layer, using 2x2 pool size\n",
        "        # tf.keras.layers.MaxPooling2D(pool_size=(2, 2)),\n",
        "\n",
        "        # Flatten units\n",
        "        tf.keras.layers.Flatten(),\n",
        "\n",
        "        # add a hiden layer with dropout\n",
        "        tf.keras.layers.Dense(128, activation='relu'),\n",
        "        tf.keras.layers.Dropout(0.5),\n",
        "\n",
        "        # add an output layer with output units of all 42 categories\n",
        "        tf.keras.layers.Dense(NUM_CATEGORIES, activation='softmax')\n",
        "\n",
        "\n",
        "    ])\n",
        "    model.compile(optimizer='adam', loss='categorical_crossentropy', metrics=['accuracy'])\n",
        "\n",
        "    return model\n",
        "\n",
        "\n",
        "# Get image arrays and labels for all image files\n",
        "images, labels = load_data(data_dir)\n",
        "\n",
        "# Split data into training and testing sets\n",
        "labels = tf.keras.utils.to_categorical(labels)\n",
        "x_train, x_test, y_train, y_test = train_test_split(\n",
        "    np.array(images), np.array(labels), test_size=TEST_SIZE\n",
        ")\n",
        "\n",
        "# Get a compiled neural network\n",
        "model = get_model()\n",
        "\n",
        "# Fit model on training data\n",
        "hist_m2 = model.fit(x_train, y_train, epochs=EPOCHS)\n",
        "loss_m2 = hist_m2.history['loss']\n",
        "accuracy_m2 = hist_m2.history['accuracy']\n",
        "\n",
        "# Evaluate neural network performance\n",
        "model.evaluate(x_test,  y_test, verbose=2)\n",
        "\n",
        "model.summary()"
      ],
      "metadata": {
        "id": "jKCEZZvvoiJf",
        "colab": {
          "base_uri": "https://localhost:8080/"
        },
        "outputId": "b5c6ef47-850c-4a06-c1ae-0e11ecb3b976"
      },
      "execution_count": null,
      "outputs": [
        {
          "output_type": "stream",
          "name": "stdout",
          "text": [
            "Epoch 1/10\n",
            "500/500 [==============================] - 3s 4ms/step - loss: 2.9048 - accuracy: 0.3001\n",
            "Epoch 2/10\n",
            "500/500 [==============================] - 2s 4ms/step - loss: 1.3166 - accuracy: 0.6060\n",
            "Epoch 3/10\n",
            "500/500 [==============================] - 3s 5ms/step - loss: 0.8524 - accuracy: 0.7365\n",
            "Epoch 4/10\n",
            "500/500 [==============================] - 2s 4ms/step - loss: 0.6180 - accuracy: 0.8067\n",
            "Epoch 5/10\n",
            "500/500 [==============================] - 2s 4ms/step - loss: 0.5005 - accuracy: 0.8479\n",
            "Epoch 6/10\n",
            "500/500 [==============================] - 2s 4ms/step - loss: 0.4066 - accuracy: 0.8731\n",
            "Epoch 7/10\n",
            "500/500 [==============================] - 2s 4ms/step - loss: 0.3668 - accuracy: 0.8876\n",
            "Epoch 8/10\n",
            "500/500 [==============================] - 2s 4ms/step - loss: 0.3102 - accuracy: 0.9043\n",
            "Epoch 9/10\n",
            "500/500 [==============================] - 3s 5ms/step - loss: 0.2992 - accuracy: 0.9070\n",
            "Epoch 10/10\n",
            "500/500 [==============================] - 2s 4ms/step - loss: 0.2530 - accuracy: 0.9215\n",
            "333/333 - 1s - loss: 0.1327 - accuracy: 0.9688 - 707ms/epoch - 2ms/step\n",
            "Model: \"sequential_10\"\n",
            "_________________________________________________________________\n",
            " Layer (type)                Output Shape              Param #   \n",
            "=================================================================\n",
            " conv2d_18 (Conv2D)          (None, 28, 28, 16)        448       \n",
            "                                                                 \n",
            " max_pooling2d_18 (MaxPooli  (None, 14, 14, 16)        0         \n",
            " ng2D)                                                           \n",
            "                                                                 \n",
            " conv2d_19 (Conv2D)          (None, 12, 12, 32)        4640      \n",
            "                                                                 \n",
            " max_pooling2d_19 (MaxPooli  (None, 6, 6, 32)          0         \n",
            " ng2D)                                                           \n",
            "                                                                 \n",
            " flatten_12 (Flatten)        (None, 1152)              0         \n",
            "                                                                 \n",
            " dense_22 (Dense)            (None, 128)               147584    \n",
            "                                                                 \n",
            " dropout_10 (Dropout)        (None, 128)               0         \n",
            "                                                                 \n",
            " dense_23 (Dense)            (None, 43)                5547      \n",
            "                                                                 \n",
            "=================================================================\n",
            "Total params: 158219 (618.04 KB)\n",
            "Trainable params: 158219 (618.04 KB)\n",
            "Non-trainable params: 0 (0.00 Byte)\n",
            "_________________________________________________________________\n"
          ]
        }
      ]
    },
    {
      "cell_type": "code",
      "source": [
        "def get_model():\n",
        "    \"\"\"\n",
        "    Returns a compiled convolutional neural network model. Assume that the\n",
        "    `input_shape` of the first layer is `(IMG_WIDTH, IMG_HEIGHT, 3)`.\n",
        "    The output layer should have `NUM_CATEGORIES` units, one for each category.\n",
        "    \"\"\"\n",
        "    # create a convolution neural network\n",
        "    model = tf.keras.models.Sequential([\n",
        "\n",
        "        # convolutional layer. learn 32 filters using a 3x3 kernel\n",
        "        tf.keras.layers.Conv2D(\n",
        "            filters=16, kernel_size=(3,3), activation='relu', input_shape=(IMG_WIDTH, IMG_HEIGHT, 3)\n",
        "        ),\n",
        "\n",
        "        # max-pooling layer, using 2x2 pool size\n",
        "        tf.keras.layers.MaxPooling2D(pool_size=(2, 2)),\n",
        "\n",
        "        # convolutional layer. learn 32 filters using a 3x3 kernel\n",
        "        tf.keras.layers.Conv2D(\n",
        "            filters=32, kernel_size=(3,3), activation='relu'\n",
        "        ),\n",
        "\n",
        "        # max-pooling layer, using 2x2 pool size\n",
        "        tf.keras.layers.MaxPooling2D(pool_size=(2, 2)),\n",
        "\n",
        "        # convolutional layer. learn 32 filters using a 3x3 kernel\n",
        "        tf.keras.layers.Conv2D(\n",
        "            filters=32, kernel_size=(3,3), activation='relu'\n",
        "        ),\n",
        "\n",
        "        # max-pooling layer, using 2x2 pool size\n",
        "        tf.keras.layers.MaxPooling2D(pool_size=(2, 2)),\n",
        "\n",
        "        # Flatten units\n",
        "        tf.keras.layers.Flatten(),\n",
        "\n",
        "        # add a hiden layer with dropout\n",
        "        tf.keras.layers.Dense(128, activation='relu'),\n",
        "        tf.keras.layers.Dropout(0.5),\n",
        "\n",
        "        # add an output layer with output units of all 42 categories\n",
        "        tf.keras.layers.Dense(NUM_CATEGORIES, activation='softmax')\n",
        "\n",
        "\n",
        "    ])\n",
        "    model.compile(optimizer='adam', loss='categorical_crossentropy', metrics=['accuracy'])\n",
        "\n",
        "    return model\n",
        "\n",
        "\n",
        "# Get image arrays and labels for all image files\n",
        "images, labels = load_data(data_dir)\n",
        "\n",
        "# Split data into training and testing sets\n",
        "labels = tf.keras.utils.to_categorical(labels)\n",
        "x_train, x_test, y_train, y_test = train_test_split(\n",
        "    np.array(images), np.array(labels), test_size=TEST_SIZE\n",
        ")\n",
        "\n",
        "# Get a compiled neural network\n",
        "model = get_model()\n",
        "\n",
        "# Fit model on training data\n",
        "hist_m3 = model.fit(x_train, y_train, epochs=EPOCHS)\n",
        "loss_m3 = hist_m3.history['loss']\n",
        "accuracy_m3 = hist_m3.history['accuracy']\n",
        "\n",
        "# Evaluate neural network performance\n",
        "model.evaluate(x_test,  y_test, verbose=2)\n",
        "\n",
        "model.summary()"
      ],
      "metadata": {
        "colab": {
          "base_uri": "https://localhost:8080/"
        },
        "id": "Dn4vvWE-vtxc",
        "outputId": "6e1c9a93-4e3a-41b3-cdec-476a2b793b4e"
      },
      "execution_count": null,
      "outputs": [
        {
          "output_type": "stream",
          "name": "stdout",
          "text": [
            "Epoch 1/10\n",
            "500/500 [==============================] - 3s 4ms/step - loss: 4.0267 - accuracy: 0.1309\n",
            "Epoch 2/10\n",
            "500/500 [==============================] - 2s 4ms/step - loss: 2.3648 - accuracy: 0.3220\n",
            "Epoch 3/10\n",
            "500/500 [==============================] - 2s 4ms/step - loss: 1.8585 - accuracy: 0.4409\n",
            "Epoch 4/10\n",
            "500/500 [==============================] - 2s 4ms/step - loss: 1.5105 - accuracy: 0.5345\n",
            "Epoch 5/10\n",
            "500/500 [==============================] - 3s 6ms/step - loss: 1.2379 - accuracy: 0.6188\n",
            "Epoch 6/10\n",
            "500/500 [==============================] - 2s 5ms/step - loss: 1.0298 - accuracy: 0.6794\n",
            "Epoch 7/10\n",
            "500/500 [==============================] - 2s 4ms/step - loss: 0.8771 - accuracy: 0.7245\n",
            "Epoch 8/10\n",
            "500/500 [==============================] - 2s 4ms/step - loss: 0.7795 - accuracy: 0.7648\n",
            "Epoch 9/10\n",
            "500/500 [==============================] - 2s 4ms/step - loss: 0.6819 - accuracy: 0.7898\n",
            "Epoch 10/10\n",
            "500/500 [==============================] - 2s 4ms/step - loss: 0.6370 - accuracy: 0.8087\n",
            "333/333 - 1s - loss: 0.4867 - accuracy: 0.8568 - 1s/epoch - 3ms/step\n",
            "Model: \"sequential_11\"\n",
            "_________________________________________________________________\n",
            " Layer (type)                Output Shape              Param #   \n",
            "=================================================================\n",
            " conv2d_20 (Conv2D)          (None, 28, 28, 16)        448       \n",
            "                                                                 \n",
            " max_pooling2d_20 (MaxPooli  (None, 14, 14, 16)        0         \n",
            " ng2D)                                                           \n",
            "                                                                 \n",
            " conv2d_21 (Conv2D)          (None, 12, 12, 32)        4640      \n",
            "                                                                 \n",
            " max_pooling2d_21 (MaxPooli  (None, 6, 6, 32)          0         \n",
            " ng2D)                                                           \n",
            "                                                                 \n",
            " conv2d_22 (Conv2D)          (None, 4, 4, 32)          9248      \n",
            "                                                                 \n",
            " max_pooling2d_22 (MaxPooli  (None, 2, 2, 32)          0         \n",
            " ng2D)                                                           \n",
            "                                                                 \n",
            " flatten_13 (Flatten)        (None, 128)               0         \n",
            "                                                                 \n",
            " dense_24 (Dense)            (None, 128)               16512     \n",
            "                                                                 \n",
            " dropout_11 (Dropout)        (None, 128)               0         \n",
            "                                                                 \n",
            " dense_25 (Dense)            (None, 43)                5547      \n",
            "                                                                 \n",
            "=================================================================\n",
            "Total params: 36395 (142.17 KB)\n",
            "Trainable params: 36395 (142.17 KB)\n",
            "Non-trainable params: 0 (0.00 Byte)\n",
            "_________________________________________________________________\n"
          ]
        }
      ]
    },
    {
      "cell_type": "code",
      "source": [
        "import matplotlib.pyplot as plt\n",
        "fig = plt.figure()\n",
        "\n",
        "plt.plot(loss_m1, color='red', label='loss_m1')\n",
        "plt.plot(loss_m2, color='blue', label='loss_m2')\n",
        "plt.plot(loss_m3, color='green', label='loss_m3')\n",
        "\n",
        "fig.suptitle('Loss', fontsize=20)\n",
        "plt.legend(loc='upper left')\n",
        "plt.show()\n"
      ],
      "metadata": {
        "colab": {
          "base_uri": "https://localhost:8080/",
          "height": 478
        },
        "id": "7mvFco4F3l07",
        "outputId": "78104ff6-97b9-4893-80cc-68ea9974da3b"
      },
      "execution_count": null,
      "outputs": [
        {
          "output_type": "display_data",
          "data": {
            "text/plain": [
              "<Figure size 640x480 with 1 Axes>"
            ],
            "image/png": "[encoded data removed]"
          },
          "metadata": {}
        }
      ]
    },
    {
      "cell_type": "code",
      "source": [
        "import matplotlib.pyplot as plt\n",
        "fig = plt.figure()\n",
        "\n",
        "plt.plot(accuracy_m1, color='red', label='accuracy_m1')\n",
        "plt.plot(accuracy_m2, color='blue', label='accuracy_m2')\n",
        "plt.plot(accuracy_m3, color='green', label='accuracy_m3')\n",
        "\n",
        "fig.suptitle('accuracy', fontsize=20)\n",
        "plt.legend(loc='upper left')\n",
        "plt.show()"
      ],
      "metadata": {
        "colab": {
          "base_uri": "https://localhost:8080/",
          "height": 478
        },
        "id": "7LN0YsoM5H5R",
        "outputId": "bb726773-ca17-419d-d475-995a06e675eb"
      },
      "execution_count": null,
      "outputs": [
        {
          "output_type": "display_data",
          "data": {
            "text/plain": [
              "<Figure size 640x480 with 1 Axes>"
            ],
            "image/png": "[encoded data removed]"
          },
          "metadata": {}
        }
      ]
    }
  ]
}